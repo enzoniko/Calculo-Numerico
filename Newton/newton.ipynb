{
 "cells": [
  {
   "cell_type": "code",
   "execution_count": 1,
   "metadata": {},
   "outputs": [
    {
     "name": "stdout",
     "output_type": "stream",
     "text": [
      "The approximated root of the function is: 0.5397973256980853\n",
      "The number of iterations is: 4\n",
      "The value of f(x) for the approximated root is: 3.337513307455353e-05\n"
     ]
    }
   ],
   "source": [
    "# Import math library for the exponential, cos and sin functions\n",
    "import math\n",
    "\n",
    "# Define the function e^x - 2cos(x)\n",
    "def f(x):\n",
    "    return math.exp(x) - 2*math.cos(x)\n",
    "\n",
    "# Define the derivative of the function e^x - 2cos(x)\n",
    "def df(x):\n",
    "    return math.exp(x) + 2*math.sin(x)\n",
    "\n",
    "# Define the Newton's method algorithm\n",
    "def newton(f, df, a, b, error):\n",
    "    \"\"\"\n",
    "    This function calculates the approximated root of a function f(x) using the Newton's method algorithm.\n",
    "    f: function\n",
    "    df: derivative of the function f\n",
    "    a: lower bound of the interval\n",
    "    b: upper bound of the interval\n",
    "    error: error to stop the algorithm\n",
    "    \"\"\"\n",
    "\n",
    "    # Check if the interval is valid\n",
    "    if f(a)*f(b) > 0:\n",
    "        print(\"Não há raízes no intervalo dado\")\n",
    "        return 1.0\n",
    "    \n",
    "    # Set the number of iterations to zero\n",
    "    k = 0\n",
    "\n",
    "    # Start with the guess x0 = a\n",
    "    xk = a\n",
    "\n",
    "    # Iterate until the error is smaller than the given error\n",
    "    while abs(f(xk)) > error:\n",
    "\n",
    "        # Check if the derivative is zero\n",
    "        if df(xk) == 0:\n",
    "            print(\"Derivada igual à zero\")\n",
    "            return 1.0\n",
    "        \n",
    "        # Calculate the next guess\n",
    "        xk = xk - (f(xk)/df(xk))\n",
    "\n",
    "        # Increment the number of iterations\n",
    "        k += 1\n",
    "    \n",
    "    # Return the approximated root, the value of f(x) for the approximated root and the number of iterations\n",
    "    return xk, f(xk), k\n",
    "\n",
    "# Test the algorithm\n",
    "\n",
    "# Set the precision of the algorithm\n",
    "precision = 2\n",
    "\n",
    "# Set the interval to search for the root\n",
    "interval = [0, 2]\n",
    "\n",
    "# Get the result\n",
    "result = newton(f, df, *interval, 10**(-precision))\n",
    "\n",
    "# Print the result\n",
    "print(\"The approximated root of the function is:\", result[0])\n",
    "print(\"The number of iterations is:\", result[2])\n",
    "print(\"The value of f(x) for the approximated root is:\", result[1])"
   ]
  }
 ],
 "metadata": {
  "kernelspec": {
   "display_name": "Python 3",
   "language": "python",
   "name": "python3"
  },
  "language_info": {
   "codemirror_mode": {
    "name": "ipython",
    "version": 3
   },
   "file_extension": ".py",
   "mimetype": "text/x-python",
   "name": "python",
   "nbconvert_exporter": "python",
   "pygments_lexer": "ipython3",
   "version": "3.11.2"
  },
  "orig_nbformat": 4
 },
 "nbformat": 4,
 "nbformat_minor": 2
}
