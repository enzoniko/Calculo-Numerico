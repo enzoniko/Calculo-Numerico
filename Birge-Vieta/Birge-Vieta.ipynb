{
 "cells": [
  {
   "cell_type": "code",
   "execution_count": 6,
   "metadata": {},
   "outputs": [
    {
     "name": "stdout",
     "output_type": "stream",
     "text": [
      "Número de iterações:  8\n",
      "Estimativa de raiz:  3.999999999999998\n",
      "Precisão encontrada:  2.6645352591003757e-14\n",
      "(3.999999999999998, 2.6645352591003757e-14, 8)\n"
     ]
    }
   ],
   "source": [
    "def birgeVieta(a, x0, error):\n",
    "    xk = 5.1891891891891895\n",
    "    n = len(a)\n",
    "    k = 0\n",
    "    b = [1, -3, 9, 23, 150]\n",
    "    c = [1, 3, 27, 185]\n",
    "    while abs(b[-1]) >= error:\n",
    "        for i in range(1, n - 1):\n",
    "            b[i] = a[i] + xk*b[i - 1]\n",
    "            c[i] = b[i] + xk*c[i - 1]\n",
    "            \n",
    "        \n",
    "        # Perguntar para professora sobre fazer o b separado do c, assim podemos parar antes sem precisar calcular o c;\n",
    "        b[n-1] = a[n - 1] + xk*b[n - 2]\n",
    "        #print(\"b: \", b)\n",
    "        #print(\"c: \", c)\n",
    "        xk = xk - b[n - 1]/c[n - 2]\n",
    "        #print(xk)\n",
    "        k += 1\n",
    "\n",
    "    print(\"Número de iterações: \", k)\n",
    "    print(\"Estimativa de raiz: \", xk)\n",
    "    print(\"Precisão encontrada: \", b[-1])\n",
    "    return xk, b[-1], k\n",
    "\n",
    "print(birgeVieta([1, -9, 27, -31, 12], 6, 1e-8))\n",
    "            \n"
   ]
  },
  {
   "cell_type": "code",
   "execution_count": null,
   "metadata": {},
   "outputs": [
    {
     "name": "stdout",
     "output_type": "stream",
     "text": [
      "calculou c mesmo ja podendo parar\n",
      "calculou c mesmo ja podendo parar\n",
      "calculou c mesmo ja podendo parar\n",
      "calculou c mesmo ja podendo parar\n",
      "calculou c mesmo ja podendo parar\n",
      "calculou c mesmo ja podendo parar\n",
      "calculou c mesmo ja podendo parar\n",
      "calculou c mesmo ja podendo parar\n",
      "calculou c mesmo ja podendo parar\n",
      "calculou c mesmo ja podendo parar\n",
      "(0.45339765151640377, 0.0, 6)\n"
     ]
    }
   ],
   "source": [
    "def birgeVieta(a, x0, error):\n",
    "    xk = x0\n",
    "    n = len(a)\n",
    "    k = 0\n",
    "    b = a[:]\n",
    "    c = a[:n-1]\n",
    "    while abs(b[-1]) > error:\n",
    "        k += 1\n",
    "        for i in range(1, n):\n",
    "            b[i] = a[i] + xk*b[i - 1]\n",
    "        if abs(b[-1]) < error:\n",
    "            break\n",
    "        for i in range(1, n - 1):\n",
    "            print(\"calculou c mesmo ja podendo parar\")\n",
    "            c[i] = b[i] + xk*c[i - 1]\n",
    "        \n",
    "        xk = xk - b[n - 1]/c[n - 2]\n",
    "    return xk, b[-1], k\n",
    "\n",
    "print(birgeVieta([1, 0, 2, -1], 1, 1e-15))"
   ]
  }
 ],
 "metadata": {
  "kernelspec": {
   "display_name": "Python 3",
   "language": "python",
   "name": "python3"
  },
  "language_info": {
   "codemirror_mode": {
    "name": "ipython",
    "version": 3
   },
   "file_extension": ".py",
   "mimetype": "text/x-python",
   "name": "python",
   "nbconvert_exporter": "python",
   "pygments_lexer": "ipython3",
   "version": "3.11.2"
  },
  "orig_nbformat": 4,
  "vscode": {
   "interpreter": {
    "hash": "7217c1299bccca6ff280a3d454c1392a702d615aa18873556941e3238ecc3b93"
   }
  }
 },
 "nbformat": 4,
 "nbformat_minor": 2
}
