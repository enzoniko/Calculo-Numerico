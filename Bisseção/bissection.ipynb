{
 "cells": [
  {
   "attachments": {},
   "cell_type": "markdown",
   "metadata": {},
   "source": [
    "# Método de Partição: Bisseção"
   ]
  },
  {
   "cell_type": "code",
   "execution_count": 1,
   "metadata": {},
   "outputs": [
    {
     "name": "stdout",
     "output_type": "stream",
     "text": [
      "The approximated root of the function is: 0.714806079864502\n",
      "The number of iterations is: 21\n",
      "The value of f(x) for the approximated root is: -6.155115217509888e-07\n",
      "The value of epsilon is: 2.220446049250313e-16\n"
     ]
    },
    {
     "data": {
      "image/png": "[encoded data removed]",
      "text/plain": [
       "<Figure size 640x480 with 1 Axes>"
      ]
     },
     "metadata": {},
     "output_type": "display_data"
    }
   ],
   "source": [
    "# Import math module for math functions\n",
    "import math\n",
    "import matplotlib.pyplot as plt\n",
    "\n",
    "# Define the funciton you want to find the root of \n",
    "def f(x):\n",
    "    # Change the function here (This one is f(x) = e^x - 2cos(x))\n",
    "    return math.exp(x) - 4*(x**2)\n",
    "\n",
    "# Bissection algorithm to find the root of a function, f, between a and b with a given error\n",
    "def bissection(f, a, b, error):\n",
    "\n",
    "    # k is the number of iterations\n",
    "    k = 0\n",
    "\n",
    "    # xm is the midpoint of the interval\n",
    "    xm = (a + b)/2\n",
    "\n",
    "    # While the absolute value of f(xm) is greater than the error, keep iterating\n",
    "    while abs(f(xm)) >= error:\n",
    "\n",
    "        # Increment the number of iterations\n",
    "        k+=1\n",
    "        plt.plot(xm, f(xm), 'go', zorder = 10)\n",
    "        # If f(a) and f(xm) have different signs, then the root is between a and xm\n",
    "        if f(a)*f(xm) < 0:\n",
    "\n",
    "            # Set b to xm\n",
    "            b = xm\n",
    "        \n",
    "        # Otherwise, the root is between xm and b\n",
    "        else:\n",
    "\n",
    "            # Set a to xm\n",
    "            a = xm\n",
    "\n",
    "        # Recalculate xm, and repeat\n",
    "        xm = (a + b)/2\n",
    "    \n",
    "    # Return the approximated root, the number of iterations, and the value of f(xm)\n",
    "    return xm, k, f(xm)\n",
    "\n",
    "# Test the algorithm\n",
    "\n",
    "# Set the precision of the algorithm\n",
    "precision = 6\n",
    "\n",
    "# Set the interval to search for the root\n",
    "interval = [0, 2]\n",
    "\n",
    "# Get the result\n",
    "result = bissection(f, *interval, 10**(-precision))\n",
    "\n",
    "# Print the result\n",
    "print(\"The approximated root of the function is:\", result[0])\n",
    "print(\"The number of iterations is:\", result[1])\n",
    "print(\"The value of f(x) for the approximated root is:\", result[2])\n",
    "\n",
    "# Conclusion: I couldn't get the algorithm to work for this especific funciton with 16 digits of precision, but it works for 15 digits of precision. \n",
    "# While debugging I figured that f(xm) at some point stagneates at 2.220446049250313e-16, which is Python's epsilon.\n",
    "# Showing the epsilon value:\n",
    "\n",
    "import sys\n",
    "epsilon = sys.float_info.epsilon\n",
    "print(\"The value of epsilon is:\",epsilon)\n",
    "\n",
    "# matrix with a list of x values and a list of y values\n",
    "\n",
    "[plt.plot(i/100.0, f(i/100.0), 'ro') for i in range(interval[0]*100, interval[1]*100)]\n",
    "# plot the root of the function\n",
    "plt.plot(result[0], result[2], 'bo', zorder = 15)\n",
    "plt.grid()\n",
    "plt.show()\n"
   ]
  },
  {
   "cell_type": "code",
   "execution_count": null,
   "metadata": {},
   "outputs": [],
   "source": []
  }
 ],
 "metadata": {
  "kernelspec": {
   "display_name": "Python 3",
   "language": "python",
   "name": "python3"
  },
  "language_info": {
   "codemirror_mode": {
    "name": "ipython",
    "version": 3
   },
   "file_extension": ".py",
   "mimetype": "text/x-python",
   "name": "python",
   "nbconvert_exporter": "python",
   "pygments_lexer": "ipython3",
   "version": "3.11.2"
  },
  "orig_nbformat": 4
 },
 "nbformat": 4,
 "nbformat_minor": 2
}
