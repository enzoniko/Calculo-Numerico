{
 "cells": [
  {
   "cell_type": "code",
   "execution_count": 1,
   "metadata": {},
   "outputs": [
    {
     "name": "stdout",
     "output_type": "stream",
     "text": [
      "The approximated root of the function is: 0.5885327439818611\n",
      "The number of iterations is: 6\n",
      "The value of f(x) for the approximated root is: 0.0\n",
      "Compared with newton's method, the secant method took 1 more iteration to find the root\n",
      "The f(x) value is a little bit bigger.\n",
      "And the root for some reason has only one '1' at the end while in newton's method it has two '1' at the end. (Newton's is more precise)\n"
     ]
    }
   ],
   "source": [
    "# Import the math library for the exponential and cosine functions\n",
    "import math\n",
    "\n",
    "# Define the function to find the root of\n",
    "def f(x):\n",
    "    return math.exp(x) * math.sin(x) - 1\n",
    "\n",
    "# Define the secant method algorithm\n",
    "def secante(f, a, b, error):\n",
    "    \"\"\"\n",
    "    This function implements the secant method algorithm to find the root of a function.\n",
    "    f: function to find the root of\n",
    "    a: lower bound of the interval\n",
    "    b: upper bound of the interval\n",
    "    error: error to stop the algorithm\n",
    "    \"\"\"\n",
    "    # Check if the interval is valid\n",
    "    if f(a)*f(b) > 0:\n",
    "        print(\"Não há raízes no intervalo dado\")\n",
    "        return 1.0\n",
    "    \n",
    "    # Set the number of iterations to 0\n",
    "    k = 0\n",
    "\n",
    "    # Set Xk-1 to a\n",
    "    xkm1 = a\n",
    "\n",
    "    # Set Xk to b\n",
    "    xk = b\n",
    "\n",
    "    # Set Xk+1 to the secant method formula\n",
    "    xkp1 = xk - (((xk - xkm1)*f(xk)) / (f(xk) - f(xkm1)))\n",
    "\n",
    "    # Iterate until the error is less than the error\n",
    "    while abs(f(xkp1)) > error:\n",
    "\n",
    "        # Set Xk-1 to Xk\n",
    "        xkm1 = xk\n",
    "\n",
    "        # Set Xk to Xk+1\n",
    "        xk = xkp1\n",
    "\n",
    "        # Set Xk+1 to the secant method formula\n",
    "        xkp1 = xk - (((xk - xkm1)*f(xk)) / (f(xk) - f(xkm1)))\n",
    "\n",
    "        # Increment the number of iterations\n",
    "        k += 1\n",
    "    \n",
    "    # Return the approximated root, the value of f(x) for the approximated root and the number of iterations\n",
    "    return xkp1, f(xkp1), k\n",
    "\n",
    "# Test the algorithm\n",
    "\n",
    "# Set the precision of the algorithm\n",
    "precision = 15\n",
    "\n",
    "# Set the interval to search for the root\n",
    "interval = [0, 1]\n",
    "\n",
    "# Get the result\n",
    "result = secante(f, *interval, 10**(-precision))\n",
    "\n",
    "# Print the result\n",
    "print(\"The approximated root of the function is:\", result[0])\n",
    "print(\"The number of iterations is:\", result[2])\n",
    "print(\"The value of f(x) for the approximated root is:\", result[1])\n",
    "\n",
    "# print(\"Compared with newton's method, the secant method took 1 more iteration to find the root\") \n",
    "# print(\"The f(x) value is a little bit bigger.\")\n",
    "# print(\"And the root for some reason has only one '1' at the end while in newton's method it has two '1' at the end. (Newton's is more precise)\")"
   ]
  }
 ],
 "metadata": {
  "kernelspec": {
   "display_name": "Python 3",
   "language": "python",
   "name": "python3"
  },
  "language_info": {
   "codemirror_mode": {
    "name": "ipython",
    "version": 3
   },
   "file_extension": ".py",
   "mimetype": "text/x-python",
   "name": "python",
   "nbconvert_exporter": "python",
   "pygments_lexer": "ipython3",
   "version": "3.11.2"
  },
  "orig_nbformat": 4
 },
 "nbformat": 4,
 "nbformat_minor": 2
}
