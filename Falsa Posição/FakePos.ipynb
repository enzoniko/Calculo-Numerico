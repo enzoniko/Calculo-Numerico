{
 "cells": [
  {
   "attachments": {},
   "cell_type": "markdown",
   "metadata": {},
   "source": [
    "# Fake Position numeric method"
   ]
  },
  {
   "cell_type": "code",
   "execution_count": 1,
   "metadata": {},
   "outputs": [
    {
     "name": "stdout",
     "output_type": "stream",
     "text": [
      "The approximated root of the function is: 0.7390852520225526\n",
      "The number of iterations was: 3\n",
      "The value of f(x) for the approximated root is: 1.9883748547666613e-07\n",
      "The value of epsilon is: 2.220446049250313e-16\n"
     ]
    },
    {
     "data": {
      "image/png": "[encoded data removed]",
      "text/plain": [
       "<Figure size 640x480 with 1 Axes>"
      ]
     },
     "metadata": {},
     "output_type": "display_data"
    }
   ],
   "source": [
    "# Import math module for math functions\n",
    "import math\n",
    "import matplotlib.pyplot as plt\n",
    "\n",
    "# Define the funciton you want to find the root of \n",
    "def f(x):\n",
    "    # Change the function here (This one is f(x) = e^x - 2cos(x))\n",
    "    return x - math.cos(x)\n",
    "\n",
    "# Fake Position algorithm to find the root of a function, f, between a and b with a given error\n",
    "def fakePos(f, a, b, error):\n",
    "\n",
    "    # k is the number of iterations\n",
    "    k = 0\n",
    "\n",
    "    # xk is the approximated root of the function\n",
    "    fa = f(a)\n",
    "    fb = f(b)\n",
    "    xk = a - ((fa*(b-a))/(fb - fa))\n",
    "    fxk = f(xk)\n",
    "    \n",
    "    # While the absolute value of f(xk) is greater than the error, keep iterating\n",
    "    while abs(fxk) > error:\n",
    "\n",
    "        # Increment the number of iterations\n",
    "        k += 1\n",
    "        plt.plot(xk, f(xk), 'go', zorder = 10)\n",
    "        \n",
    "        # If f(a) and f(xk) have different signs, then the root is between a and xk\n",
    "        if fa*fxk < 0:\n",
    "\n",
    "            \n",
    "            fa = fa*(fb/(fb+fxk))\n",
    "            # Set b = xk\n",
    "            b = xk\n",
    "            fb = f(b)\n",
    "        # Otherwise, the root is between xk and b\n",
    "        else:\n",
    "\n",
    "            # Set a to xk\n",
    "            \n",
    "            fb = fb*(fa/(fa+fxk))\n",
    "            a = xk\n",
    "            fa = f(a)\n",
    "        \n",
    "        # Recalculate xk, and repeat\n",
    "        xk = a - ((fa*(b-a))/(fb - fa))\n",
    "        fxk = f(xk)\n",
    "    # Return the approximated root, the number of iterations, and the value of f(xk) \n",
    "    return xk, k, fxk \n",
    "\n",
    "# Test the algorithm\n",
    "\n",
    "# Set the precision of the algorithm\n",
    "precision = 6\n",
    "\n",
    "# Set the interval to search for the root\n",
    "interval = [0, 2]\n",
    "\n",
    "# Get the result\n",
    "result = fakePos(f, *interval, 10**(-precision))\n",
    "\n",
    "# Print the result\n",
    "print(\"The approximated root of the function is:\", result[0])\n",
    "print(\"The number of iterations was:\", result[1])\n",
    "print(\"The value of f(x) for the approximated root is:\", result[2])\n",
    "\n",
    "# Conclusion: I couldn't get the algorithm to work for this especific funciton with 16 digits of precision, but it works for 15 digits of precision. \n",
    "# While debugging I figured that f(xk) at some point stagneates at 2.220446049250313e-16, which is Python's epsilon.\n",
    "# Showing the epsilon value:\n",
    "\n",
    "import sys\n",
    "epsilon = sys.float_info.epsilon\n",
    "print(\"The value of epsilon is:\", epsilon)\n",
    "\n",
    "# matrix with a list of x values and a list of y values\n",
    "\n",
    "[plt.plot(i/100.0, f(i/100.0), 'ro') for i in range(interval[0]*100, interval[1]*100)]\n",
    "# plot the root of the function\n",
    "plt.plot(result[0], result[2], 'bo', zorder = 15)\n",
    "plt.grid()\n",
    "plt.show()"
   ]
  },
  {
   "cell_type": "code",
   "execution_count": null,
   "metadata": {},
   "outputs": [],
   "source": []
  },
  {
   "cell_type": "code",
   "execution_count": null,
   "metadata": {},
   "outputs": [],
   "source": []
  }
 ],
 "metadata": {
  "kernelspec": {
   "display_name": "Python 3",
   "language": "python",
   "name": "python3"
  },
  "language_info": {
   "codemirror_mode": {
    "name": "ipython",
    "version": 3
   },
   "file_extension": ".py",
   "mimetype": "text/x-python",
   "name": "python",
   "nbconvert_exporter": "python",
   "pygments_lexer": "ipython3",
   "version": "3.11.2"
  },
  "orig_nbformat": 4
 },
 "nbformat": 4,
 "nbformat_minor": 2
}
